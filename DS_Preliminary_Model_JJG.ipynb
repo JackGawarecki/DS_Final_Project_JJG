{
 "cells": [
  {
   "cell_type": "markdown",
   "id": "a753d6ec",
   "metadata": {},
   "source": [
    "# Jackson Gawarecki\n",
    "## Preliminary Model for Semester Project (Decision Tree Regression)\n",
    "### 3/5/24"
   ]
  },
  {
   "cell_type": "code",
   "execution_count": 54,
   "id": "e7208c9a",
   "metadata": {},
   "outputs": [],
   "source": [
    "import pandas as pd\n",
    "import numpy as np\n",
    "import seaborn as sns\n",
    "import matplotlib.pyplot as plt\n",
    "\n",
    "df = pd.read_csv(\"Fire_Open_Data.csv\", parse_dates=['DATE', 'CREATE', 'DISPATCH', 'ENROUTE', 'ARRIVE', 'CLEAR'])"
   ]
  },
  {
   "cell_type": "markdown",
   "id": "8bd54d9a",
   "metadata": {},
   "source": [
    "###### Note: Priority is a scale 1-10 with 1 being the most important"
   ]
  },
  {
   "cell_type": "code",
   "execution_count": 55,
   "id": "aae49565",
   "metadata": {},
   "outputs": [],
   "source": [
    "#Create Dummy Variable for the Agency Names\n",
    "dummy_agency = pd.get_dummies(df['AGENCY_NAME'], prefix=\"Agency\")\n",
    "# Concat original dummy vars\n",
    "df = pd.concat([df, dummy_agency], axis=1)"
   ]
  },
  {
   "cell_type": "code",
   "execution_count": 56,
   "id": "974c7554",
   "metadata": {},
   "outputs": [],
   "source": [
    "# Drop OG column\n",
    "df= df.drop('AGENCY_NAME', axis=1)"
   ]
  },
  {
   "cell_type": "code",
   "execution_count": 57,
   "id": "a0579172",
   "metadata": {},
   "outputs": [
    {
     "name": "stdout",
     "output_type": "stream",
     "text": [
      "Count of each entry in the 'EVENT TYPE' column:\n",
      "MEDICAL--MEDICAL - MED_CALL               88178\n",
      "ALARM--Fire Alarm Sounding-Commercial     14278\n",
      "ASSIST--Assist EMS - Code 3                6821\n",
      "ALARM--Fire Alarm Sounding-Residential     6578\n",
      "MEDICAL--MEDICAL - CPR                     4954\n",
      "                                          ...  \n",
      "SEARCH--Search-Missing Person                 3\n",
      "STEAM_RUPTURE                                 1\n",
      "CHEMICAL--Chemical Spill/Fire                 1\n",
      "MEDICAL--Medical - Charlie                    1\n",
      "AIRCRAFT--Aircraft has Crashed                1\n",
      "Name: EVENT TYPE, Length: 93, dtype: int64\n"
     ]
    }
   ],
   "source": [
    "event_type_counts = df['EVENT TYPE'].value_counts()\n",
    "\n",
    "# Individually Print the count of each entry in the column\n",
    "\n",
    "print(\"Count of each entry in the 'EVENT TYPE' column:\")\n",
    "print(event_type_counts)"
   ]
  },
  {
   "cell_type": "code",
   "execution_count": 58,
   "id": "9550a685",
   "metadata": {},
   "outputs": [],
   "source": [
    "# Group the Event types into the major categories (Reduced from 100+ unique)\n",
    "\n",
    "df['EVENT TYPE'] = df['EVENT TYPE'].str.split('-').str[0].str.strip()"
   ]
  },
  {
   "cell_type": "code",
   "execution_count": 59,
   "id": "c9f92883",
   "metadata": {},
   "outputs": [],
   "source": [
    "# Drop all events where there are less than 1000 occurances\n",
    "\n",
    "values_to_drop = ['Arson Investigation', 'SPECIAL', 'GENERAL HAZARD', 'ACTIVE AGGRESSOR', 'SEARCH',\n",
    "                  'AIRCRAFT', 'WEATHER', 'STEAM_RUPTURE']\n",
    "df = df[~df['EVENT TYPE'].isin(values_to_drop)]"
   ]
  },
  {
   "cell_type": "code",
   "execution_count": 60,
   "id": "e0127a98",
   "metadata": {},
   "outputs": [],
   "source": [
    "#Convert the event types to dummy variables\n",
    "\n",
    "dummy_event = pd.get_dummies(df['EVENT TYPE'], prefix=\"ET\")\n",
    "# Concat original dummy vars\n",
    "df = pd.concat([df, dummy_event], axis=1)"
   ]
  },
  {
   "cell_type": "code",
   "execution_count": 61,
   "id": "f5e76571",
   "metadata": {},
   "outputs": [],
   "source": [
    "df= df.drop('EVENT TYPE', axis=1)"
   ]
  },
  {
   "cell_type": "code",
   "execution_count": 62,
   "id": "5e4bb438",
   "metadata": {},
   "outputs": [],
   "source": [
    "df = df.rename(columns={'HOUR OF': 'HOUR_OF'})"
   ]
  },
  {
   "cell_type": "code",
   "execution_count": 63,
   "id": "71780731",
   "metadata": {},
   "outputs": [],
   "source": [
    "#Dropping the unused Columns (potential for other models)\n",
    "df.drop(['LOCATION'], axis=1, inplace=True)\n",
    "df.drop(['FD EVENT NUMBER'], axis=1, inplace=True)\n",
    "df.drop(['ZIP_CODE'], axis=1, inplace=True)\n",
    "df.drop(['ENROUTE'], axis=1, inplace=True)\n",
    "df.drop(['CREATE'], axis=1, inplace=True)\n",
    "df.drop(['CLEAR'], axis=1, inplace=True)"
   ]
  },
  {
   "cell_type": "code",
   "execution_count": 64,
   "id": "504c51d4",
   "metadata": {},
   "outputs": [],
   "source": [
    "# adding a column for total response time (disbatch to arrive)\n",
    "df['Response_Time'] = (df['ARRIVE'] - df['DISPATCH']).dt.total_seconds()"
   ]
  },
  {
   "cell_type": "code",
   "execution_count": 65,
   "id": "2074a95b",
   "metadata": {},
   "outputs": [],
   "source": [
    "# Move Response_Time to be after Arrive\n",
    "df.insert(df.columns.get_loc('ARRIVE') + 1, 'Response_Time', df.pop('Response_Time'))"
   ]
  },
  {
   "cell_type": "code",
   "execution_count": 66,
   "id": "42953ad3",
   "metadata": {},
   "outputs": [],
   "source": [
    "# Go from ~167k to ~147k entries\n",
    "df = df.dropna(subset=['Response_Time'])"
   ]
  },
  {
   "cell_type": "code",
   "execution_count": 67,
   "id": "939323d0",
   "metadata": {},
   "outputs": [
    {
     "name": "stdout",
     "output_type": "stream",
     "text": [
      "0.0\n",
      "0.0\n",
      "0.0\n",
      "0.0\n",
      "0.0\n",
      "0.0\n",
      "0.0\n",
      "0.0\n",
      "0.0\n",
      "0.0\n",
      "0.0\n",
      "0.0\n",
      "0.0\n",
      "0.0\n",
      "0.0\n",
      "0.0\n",
      "0.0\n",
      "0.0\n",
      "0.0\n",
      "0.0\n",
      "0.0\n",
      "0.0\n",
      "0.0\n",
      "0.0\n",
      "0.0\n",
      "0.0\n",
      "0.0\n",
      "0.0\n",
      "0.0\n",
      "0.0\n",
      "0.0\n",
      "0.0\n"
     ]
    }
   ],
   "source": [
    "# Check for null values\n",
    "for column_name in df.columns:\n",
    "    nan_percentage = (df[column_name].isna().sum() / len(df[column_name])) * 100\n",
    "    print(nan_percentage)\n"
   ]
  },
  {
   "cell_type": "code",
   "execution_count": 102,
   "id": "6701404b",
   "metadata": {},
   "outputs": [],
   "source": [
    "# Make two datasets to split how we handle the PRIORITY column\n",
    "# Turn them into dummy variables\n",
    "Priority_Dummy = df"
   ]
  },
  {
   "cell_type": "code",
   "execution_count": 88,
   "id": "4f169bf7",
   "metadata": {},
   "outputs": [],
   "source": [
    "# Try to re-order the list so that 1=10, 2=9, ....\n",
    "Priority_re = df"
   ]
  },
  {
   "cell_type": "markdown",
   "id": "c8669d3e",
   "metadata": {},
   "source": [
    "#### PRIORITY_Dummy Cleaning"
   ]
  },
  {
   "cell_type": "code",
   "execution_count": 103,
   "id": "18a04c51",
   "metadata": {},
   "outputs": [],
   "source": [
    "# Drop any row with priority as 0 because it only appears once\n",
    "Priority_Dummy = Priority_Dummy[Priority_Dummy['PRIORITY'] != 0]"
   ]
  },
  {
   "cell_type": "code",
   "execution_count": 104,
   "id": "ad7bf156",
   "metadata": {},
   "outputs": [],
   "source": [
    "dummy_PRIORITY = pd.get_dummies(Priority_Dummy['PRIORITY'], prefix=\"PRIORITY\")"
   ]
  },
  {
   "cell_type": "code",
   "execution_count": 105,
   "id": "2900286b",
   "metadata": {},
   "outputs": [],
   "source": [
    "Priority_Dummy = pd.concat([Priority_Dummy, dummy_PRIORITY], axis=1)"
   ]
  },
  {
   "cell_type": "code",
   "execution_count": 106,
   "id": "44c6af05",
   "metadata": {},
   "outputs": [],
   "source": [
    "Priority_Dummy= Priority_Dummy.drop('PRIORITY', axis=1)"
   ]
  },
  {
   "cell_type": "code",
   "execution_count": 107,
   "id": "4164ef6e",
   "metadata": {},
   "outputs": [
    {
     "name": "stdout",
     "output_type": "stream",
     "text": [
      "<class 'pandas.core.frame.DataFrame'>\n",
      "Int64Index: 146509 entries, 1 to 167585\n",
      "Data columns (total 39 columns):\n",
      " #   Column                             Non-Null Count   Dtype         \n",
      "---  ------                             --------------   -----         \n",
      " 0   DATE                               146509 non-null  datetime64[ns]\n",
      " 1   DISPATCH                           146509 non-null  datetime64[ns]\n",
      " 2   ARRIVE                             146509 non-null  datetime64[ns]\n",
      " 3   Response_Time                      146509 non-null  float64       \n",
      " 4   HOUR_OF                            146509 non-null  int64         \n",
      " 5   Agency_Buechel FD                  146509 non-null  uint8         \n",
      " 6   Agency_Camp Taylor FD              146509 non-null  uint8         \n",
      " 7   Agency_Eastwood FD                 146509 non-null  uint8         \n",
      " 8   Agency_Fairdale FD                 146509 non-null  uint8         \n",
      " 9   Agency_Fern Creek FD               146509 non-null  uint8         \n",
      " 10  Agency_Highview FD                 146509 non-null  uint8         \n",
      " 11  Agency_Jeffersontown FD            146509 non-null  uint8         \n",
      " 12  Agency_Louisville Fire Department  146509 non-null  uint8         \n",
      " 13  Agency_Middletown FD               146509 non-null  uint8         \n",
      " 14  Agency_Mutual Aid Fire District    146509 non-null  uint8         \n",
      " 15  Agency_Okolona FD                  146509 non-null  uint8         \n",
      " 16  Agency_Pleasure Ridge Park FD      146509 non-null  uint8         \n",
      " 17  Agency_Shively FD                  146509 non-null  uint8         \n",
      " 18  Agency_Special Rescue Team         146509 non-null  uint8         \n",
      " 19  Agency_St Matthews FD              146509 non-null  uint8         \n",
      " 20  ET_ACCIDENT                        146509 non-null  uint8         \n",
      " 21  ET_ALARM                           146509 non-null  uint8         \n",
      " 22  ET_ASSIST                          146509 non-null  uint8         \n",
      " 23  ET_CHEMICAL                        146509 non-null  uint8         \n",
      " 24  ET_FIRE                            146509 non-null  uint8         \n",
      " 25  ET_GAS_LEAK                        146509 non-null  uint8         \n",
      " 26  ET_LOCK_OUT/IN                     146509 non-null  uint8         \n",
      " 27  ET_MEDICAL                         146509 non-null  uint8         \n",
      " 28  ET_RESCUE                          146509 non-null  uint8         \n",
      " 29  ET_WATER_LEAK                      146509 non-null  uint8         \n",
      " 30  ET_WIRES_DOWN                      146509 non-null  uint8         \n",
      " 31  PRIORITY_1                         146509 non-null  uint8         \n",
      " 32  PRIORITY_2                         146509 non-null  uint8         \n",
      " 33  PRIORITY_3                         146509 non-null  uint8         \n",
      " 34  PRIORITY_4                         146509 non-null  uint8         \n",
      " 35  PRIORITY_5                         146509 non-null  uint8         \n",
      " 36  PRIORITY_7                         146509 non-null  uint8         \n",
      " 37  PRIORITY_8                         146509 non-null  uint8         \n",
      " 38  PRIORITY_9                         146509 non-null  uint8         \n",
      "dtypes: datetime64[ns](3), float64(1), int64(1), uint8(34)\n",
      "memory usage: 11.5 MB\n"
     ]
    }
   ],
   "source": [
    "Priority_Dummy.info()"
   ]
  },
  {
   "cell_type": "markdown",
   "id": "c550ac2b",
   "metadata": {},
   "source": [
    "#### PRIORITY_re Cleaning"
   ]
  },
  {
   "cell_type": "code",
   "execution_count": 91,
   "id": "561e2375",
   "metadata": {},
   "outputs": [
    {
     "name": "stdout",
     "output_type": "stream",
     "text": [
      "Count of each entry in the 'Priority' column:\n",
      "7    82290\n",
      "2    37546\n",
      "3     9224\n",
      "1     8374\n",
      "8     4845\n",
      "4     1873\n",
      "5     1569\n",
      "9      788\n",
      "Name: PRIORITY, dtype: int64\n"
     ]
    }
   ],
   "source": [
    "Priority_count = Priority_re['PRIORITY'].value_counts()\n",
    "\n",
    "# Individually Print the count of each entry in the column\n",
    "\n",
    "print(\"Count of each entry in the 'Priority' column:\")\n",
    "print(Priority_count)"
   ]
  },
  {
   "cell_type": "code",
   "execution_count": 90,
   "id": "ef369e1d",
   "metadata": {},
   "outputs": [],
   "source": [
    "# Drop the one row where priority = 0\n",
    "Priority_re = Priority_re[Priority_re['PRIORITY'] != 0]"
   ]
  },
  {
   "cell_type": "code",
   "execution_count": 92,
   "id": "50e5cd0f",
   "metadata": {},
   "outputs": [
    {
     "name": "stderr",
     "output_type": "stream",
     "text": [
      "<ipython-input-92-75f5cf5e135d>:5: SettingWithCopyWarning: \n",
      "A value is trying to be set on a copy of a slice from a DataFrame.\n",
      "Try using .loc[row_indexer,col_indexer] = value instead\n",
      "\n",
      "See the caveats in the documentation: https://pandas.pydata.org/pandas-docs/stable/user_guide/indexing.html#returning-a-view-versus-a-copy\n",
      "  Priority_re['PRIORITY'] = Priority_re['PRIORITY'].map(mapping)\n"
     ]
    }
   ],
   "source": [
    "# Create a mapping dictionary\n",
    "mapping = {1: 10, 2: 9, 3: 8, 4: 7, 5: 6, 6: 5, 7: 4, 8: 3, 9: 2, 10: 1}\n",
    "\n",
    "# Apply Mapping to the 'PRIORITY' column\n",
    "Priority_re['PRIORITY'] = Priority_re['PRIORITY'].map(mapping)"
   ]
  },
  {
   "cell_type": "markdown",
   "id": "08035ded",
   "metadata": {},
   "source": [
    "##### Swapped all priority values to their correct counterparts"
   ]
  },
  {
   "cell_type": "code",
   "execution_count": 94,
   "id": "f213a08f",
   "metadata": {},
   "outputs": [
    {
     "data": {
      "text/html": [
       "<div>\n",
       "<style scoped>\n",
       "    .dataframe tbody tr th:only-of-type {\n",
       "        vertical-align: middle;\n",
       "    }\n",
       "\n",
       "    .dataframe tbody tr th {\n",
       "        vertical-align: top;\n",
       "    }\n",
       "\n",
       "    .dataframe thead th {\n",
       "        text-align: right;\n",
       "    }\n",
       "</style>\n",
       "<table border=\"1\" class=\"dataframe\">\n",
       "  <thead>\n",
       "    <tr style=\"text-align: right;\">\n",
       "      <th></th>\n",
       "      <th>DATE</th>\n",
       "      <th>DISPATCH</th>\n",
       "      <th>ARRIVE</th>\n",
       "      <th>Response_Time</th>\n",
       "      <th>HOUR_OF</th>\n",
       "      <th>PRIORITY</th>\n",
       "      <th>Agency_Buechel FD</th>\n",
       "      <th>Agency_Camp Taylor FD</th>\n",
       "      <th>Agency_Eastwood FD</th>\n",
       "      <th>Agency_Fairdale FD</th>\n",
       "      <th>...</th>\n",
       "      <th>ET_ALARM</th>\n",
       "      <th>ET_ASSIST</th>\n",
       "      <th>ET_CHEMICAL</th>\n",
       "      <th>ET_FIRE</th>\n",
       "      <th>ET_GAS_LEAK</th>\n",
       "      <th>ET_LOCK_OUT/IN</th>\n",
       "      <th>ET_MEDICAL</th>\n",
       "      <th>ET_RESCUE</th>\n",
       "      <th>ET_WATER_LEAK</th>\n",
       "      <th>ET_WIRES_DOWN</th>\n",
       "    </tr>\n",
       "  </thead>\n",
       "  <tbody>\n",
       "    <tr>\n",
       "      <th>1</th>\n",
       "      <td>2021-03-01</td>\n",
       "      <td>2024-03-05 00:34:19</td>\n",
       "      <td>2024-03-05 00:40:17</td>\n",
       "      <td>358.0</td>\n",
       "      <td>0</td>\n",
       "      <td>2</td>\n",
       "      <td>0</td>\n",
       "      <td>0</td>\n",
       "      <td>0</td>\n",
       "      <td>0</td>\n",
       "      <td>...</td>\n",
       "      <td>0</td>\n",
       "      <td>0</td>\n",
       "      <td>0</td>\n",
       "      <td>0</td>\n",
       "      <td>0</td>\n",
       "      <td>0</td>\n",
       "      <td>0</td>\n",
       "      <td>0</td>\n",
       "      <td>0</td>\n",
       "      <td>1</td>\n",
       "    </tr>\n",
       "    <tr>\n",
       "      <th>3</th>\n",
       "      <td>2021-03-01</td>\n",
       "      <td>2024-03-05 00:54:06</td>\n",
       "      <td>2024-03-05 01:06:34</td>\n",
       "      <td>748.0</td>\n",
       "      <td>0</td>\n",
       "      <td>4</td>\n",
       "      <td>0</td>\n",
       "      <td>0</td>\n",
       "      <td>0</td>\n",
       "      <td>0</td>\n",
       "      <td>...</td>\n",
       "      <td>0</td>\n",
       "      <td>0</td>\n",
       "      <td>0</td>\n",
       "      <td>0</td>\n",
       "      <td>0</td>\n",
       "      <td>0</td>\n",
       "      <td>1</td>\n",
       "      <td>0</td>\n",
       "      <td>0</td>\n",
       "      <td>0</td>\n",
       "    </tr>\n",
       "    <tr>\n",
       "      <th>4</th>\n",
       "      <td>2021-03-01</td>\n",
       "      <td>2024-03-05 01:03:45</td>\n",
       "      <td>2024-03-05 01:08:32</td>\n",
       "      <td>287.0</td>\n",
       "      <td>100</td>\n",
       "      <td>4</td>\n",
       "      <td>0</td>\n",
       "      <td>0</td>\n",
       "      <td>0</td>\n",
       "      <td>0</td>\n",
       "      <td>...</td>\n",
       "      <td>0</td>\n",
       "      <td>0</td>\n",
       "      <td>0</td>\n",
       "      <td>0</td>\n",
       "      <td>0</td>\n",
       "      <td>0</td>\n",
       "      <td>1</td>\n",
       "      <td>0</td>\n",
       "      <td>0</td>\n",
       "      <td>0</td>\n",
       "    </tr>\n",
       "    <tr>\n",
       "      <th>5</th>\n",
       "      <td>2021-03-01</td>\n",
       "      <td>2024-03-05 01:13:58</td>\n",
       "      <td>2024-03-05 01:16:25</td>\n",
       "      <td>147.0</td>\n",
       "      <td>100</td>\n",
       "      <td>4</td>\n",
       "      <td>0</td>\n",
       "      <td>0</td>\n",
       "      <td>0</td>\n",
       "      <td>0</td>\n",
       "      <td>...</td>\n",
       "      <td>0</td>\n",
       "      <td>0</td>\n",
       "      <td>0</td>\n",
       "      <td>0</td>\n",
       "      <td>0</td>\n",
       "      <td>0</td>\n",
       "      <td>1</td>\n",
       "      <td>0</td>\n",
       "      <td>0</td>\n",
       "      <td>0</td>\n",
       "    </tr>\n",
       "    <tr>\n",
       "      <th>6</th>\n",
       "      <td>2021-03-01</td>\n",
       "      <td>2024-03-05 02:05:40</td>\n",
       "      <td>2024-03-05 02:09:46</td>\n",
       "      <td>246.0</td>\n",
       "      <td>200</td>\n",
       "      <td>4</td>\n",
       "      <td>0</td>\n",
       "      <td>0</td>\n",
       "      <td>0</td>\n",
       "      <td>0</td>\n",
       "      <td>...</td>\n",
       "      <td>0</td>\n",
       "      <td>0</td>\n",
       "      <td>0</td>\n",
       "      <td>0</td>\n",
       "      <td>0</td>\n",
       "      <td>0</td>\n",
       "      <td>1</td>\n",
       "      <td>0</td>\n",
       "      <td>0</td>\n",
       "      <td>0</td>\n",
       "    </tr>\n",
       "  </tbody>\n",
       "</table>\n",
       "<p>5 rows × 32 columns</p>\n",
       "</div>"
      ],
      "text/plain": [
       "        DATE            DISPATCH              ARRIVE  Response_Time  HOUR_OF  \\\n",
       "1 2021-03-01 2024-03-05 00:34:19 2024-03-05 00:40:17          358.0        0   \n",
       "3 2021-03-01 2024-03-05 00:54:06 2024-03-05 01:06:34          748.0        0   \n",
       "4 2021-03-01 2024-03-05 01:03:45 2024-03-05 01:08:32          287.0      100   \n",
       "5 2021-03-01 2024-03-05 01:13:58 2024-03-05 01:16:25          147.0      100   \n",
       "6 2021-03-01 2024-03-05 02:05:40 2024-03-05 02:09:46          246.0      200   \n",
       "\n",
       "   PRIORITY  Agency_Buechel FD  Agency_Camp Taylor FD  Agency_Eastwood FD  \\\n",
       "1         2                  0                      0                   0   \n",
       "3         4                  0                      0                   0   \n",
       "4         4                  0                      0                   0   \n",
       "5         4                  0                      0                   0   \n",
       "6         4                  0                      0                   0   \n",
       "\n",
       "   Agency_Fairdale FD  ...  ET_ALARM  ET_ASSIST  ET_CHEMICAL  ET_FIRE  \\\n",
       "1                   0  ...         0          0            0        0   \n",
       "3                   0  ...         0          0            0        0   \n",
       "4                   0  ...         0          0            0        0   \n",
       "5                   0  ...         0          0            0        0   \n",
       "6                   0  ...         0          0            0        0   \n",
       "\n",
       "   ET_GAS_LEAK  ET_LOCK_OUT/IN  ET_MEDICAL  ET_RESCUE  ET_WATER_LEAK  \\\n",
       "1            0               0           0          0              0   \n",
       "3            0               0           1          0              0   \n",
       "4            0               0           1          0              0   \n",
       "5            0               0           1          0              0   \n",
       "6            0               0           1          0              0   \n",
       "\n",
       "   ET_WIRES_DOWN  \n",
       "1              1  \n",
       "3              0  \n",
       "4              0  \n",
       "5              0  \n",
       "6              0  \n",
       "\n",
       "[5 rows x 32 columns]"
      ]
     },
     "execution_count": 94,
     "metadata": {},
     "output_type": "execute_result"
    }
   ],
   "source": [
    "# Check and see it worked\n",
    "Priority_re.head()"
   ]
  },
  {
   "cell_type": "markdown",
   "id": "446b01cc",
   "metadata": {},
   "source": [
    "### Decision Tree Regression"
   ]
  },
  {
   "cell_type": "code",
   "execution_count": 37,
   "id": "1a4673ba",
   "metadata": {},
   "outputs": [],
   "source": [
    "from sklearn.impute import SimpleImputer\n",
    "from sklearn.model_selection import train_test_split\n",
    "from sklearn.metrics import r2_score\n",
    "from sklearn.metrics import mean_squared_error as msc\n",
    "from sklearn.metrics import accuracy_score\n",
    "from math import sqrt\n",
    "from sklearn.preprocessing import StandardScaler\n",
    "from sklearn.tree import DecisionTreeRegressor\n",
    "from sklearn.tree import plot_tree\n",
    "from sklearn import tree"
   ]
  },
  {
   "cell_type": "code",
   "execution_count": 17,
   "id": "63e045a4",
   "metadata": {},
   "outputs": [],
   "source": [
    "# Split the dataframe into a X and y variables. y is our response time and X is everything else\n",
    "# (minus the datetimes because Hour_of already takes care of that)\n",
    "\n",
    "X = df.loc[:, ~df.columns.isin(['Response_time', 'ARRIVE', 'DISPATCH', 'DATE'])]\n",
    "y = df['Response_Time']"
   ]
  },
  {
   "cell_type": "markdown",
   "id": "732645bf",
   "metadata": {},
   "source": [
    "### Split into Training and Test"
   ]
  },
  {
   "cell_type": "code",
   "execution_count": 18,
   "id": "6b441581",
   "metadata": {},
   "outputs": [],
   "source": [
    "X_train,X_test,y_train,y_test=train_test_split(X,y,test_size=.2, random_state=0)"
   ]
  },
  {
   "cell_type": "code",
   "execution_count": 20,
   "id": "2a826b4d",
   "metadata": {},
   "outputs": [
    {
     "data": {
      "text/plain": [
       "DecisionTreeRegressor(random_state=0)"
      ]
     },
     "execution_count": 20,
     "metadata": {},
     "output_type": "execute_result"
    }
   ],
   "source": [
    "regressor=DecisionTreeRegressor(random_state=0)\n",
    "regressor.fit(X,y)"
   ]
  },
  {
   "cell_type": "code",
   "execution_count": 22,
   "id": "eb3bb139",
   "metadata": {},
   "outputs": [],
   "source": [
    "y_pred=regressor.predict(X_test)"
   ]
  },
  {
   "cell_type": "code",
   "execution_count": 23,
   "id": "d5917040",
   "metadata": {},
   "outputs": [
    {
     "name": "stdout",
     "output_type": "stream",
     "text": [
      "R-Square 1.0\n",
      "The mean squared error is 9.29624044327521e-15\n"
     ]
    }
   ],
   "source": [
    "# Check the Root mean squared error value for the predictions on the test values\n",
    "rms=sqrt(msc(y_test,y_pred))\n",
    "print('The mean squared error is',rms)"
   ]
  },
  {
   "cell_type": "code",
   "execution_count": 44,
   "id": "cb1d30cf",
   "metadata": {},
   "outputs": [
    {
     "name": "stdout",
     "output_type": "stream",
     "text": [
      "Train Set Mean Squared Error (MSE): 8.402082066785892e-29\n",
      "Mean Cross-Validation R2: 0.999818656283875\n"
     ]
    }
   ],
   "source": [
    "from sklearn.model_selection import cross_val_score\n",
    "\n",
    "# Evaluate on Training and Test Sets\n",
    "y_train_pred = regressor.predict(X_train)\n",
    "train_mse = msc(y_train, y_train_pred)\n",
    "train_r2 = r2_score(y_train, y_train_pred)\n",
    "\n",
    "print(\"Train Set Mean Squared Error (MSE):\", train_mse)\n",
    "\n",
    "\n",
    "# Use Cross-Validation to test over different splits of the data\n",
    "cv_scores = cross_val_score(regressor, X, y, cv=5, scoring='r2')\n",
    "\n",
    "print(\"Mean Cross-Validation R2:\", np.mean(cv_scores))\n",
    "\n"
   ]
  },
  {
   "cell_type": "markdown",
   "id": "afa2c5ce",
   "metadata": {},
   "source": [
    "##### Try with different regression parameters"
   ]
  },
  {
   "cell_type": "code",
   "execution_count": 48,
   "id": "f36cf701",
   "metadata": {},
   "outputs": [
    {
     "data": {
      "text/plain": [
       "DecisionTreeRegressor(random_state=1, splitter='random')"
      ]
     },
     "execution_count": 48,
     "metadata": {},
     "output_type": "execute_result"
    }
   ],
   "source": [
    "regressor=DecisionTreeRegressor(splitter='random', random_state=1)\n",
    "regressor.fit(X,y)"
   ]
  },
  {
   "cell_type": "code",
   "execution_count": 49,
   "id": "6f16a930",
   "metadata": {},
   "outputs": [],
   "source": [
    "y_pred=regressor.predict(X_test)"
   ]
  },
  {
   "cell_type": "code",
   "execution_count": 50,
   "id": "4cb3ace1",
   "metadata": {},
   "outputs": [
    {
     "name": "stdout",
     "output_type": "stream",
     "text": [
      "The mean squared error is 8.215282748448146e-15\n"
     ]
    }
   ],
   "source": [
    "rms=sqrt(msc(y_test,y_pred))\n",
    "print('The mean squared error is',rms)"
   ]
  },
  {
   "cell_type": "markdown",
   "id": "7031eb8e",
   "metadata": {},
   "source": [
    "### Using the Priority corrected dataframes"
   ]
  },
  {
   "cell_type": "markdown",
   "id": "f8c2e909",
   "metadata": {},
   "source": [
    "### Dummy Priority "
   ]
  },
  {
   "cell_type": "code",
   "execution_count": 108,
   "id": "e2f9a7a1",
   "metadata": {},
   "outputs": [],
   "source": [
    "XDP = Priority_Dummy.loc[:, ~Priority_Dummy.columns.isin(['Response_time', 'ARRIVE', 'DISPATCH', 'DATE'])]\n",
    "yDP = Priority_Dummy['Response_Time']\n",
    "XDP_train,XDP_test,yDP_train,yDP_test=train_test_split(XDP,yDP,test_size=.2, random_state=0)"
   ]
  },
  {
   "cell_type": "code",
   "execution_count": 109,
   "id": "ea8c5524",
   "metadata": {},
   "outputs": [
    {
     "name": "stdout",
     "output_type": "stream",
     "text": [
      "The mean squared error of the Priority_Dummy is 9.135838253467874e-15\n"
     ]
    }
   ],
   "source": [
    "# Same Regression parameters as Original\n",
    "regressor=DecisionTreeRegressor(random_state=0)\n",
    "regressor.fit(XDP,yDP)\n",
    "yDP_pred=regressor.predict(XDP_test)\n",
    "rms=sqrt(msc(yDP_test,yDP_pred))\n",
    "print('The mean squared error of the Priority_Dummy is',rms)"
   ]
  },
  {
   "cell_type": "code",
   "execution_count": 110,
   "id": "afb36914",
   "metadata": {},
   "outputs": [
    {
     "name": "stdout",
     "output_type": "stream",
     "text": [
      "The mean squared error of the Priority_Dummy is 9.558203648479954e-15\n"
     ]
    }
   ],
   "source": [
    "# Changed regression parameters\n",
    "regressor=DecisionTreeRegressor(splitter='random', random_state=1)\n",
    "regressor.fit(XDP,yDP)\n",
    "yDP_pred=regressor.predict(XDP_test)\n",
    "rms=sqrt(msc(yDP_test,yDP_pred))\n",
    "print('The mean squared error of the Priority_Dummy is',rms)"
   ]
  },
  {
   "cell_type": "markdown",
   "id": "1aa9d8f2",
   "metadata": {},
   "source": [
    "## Priority Reorder"
   ]
  },
  {
   "cell_type": "code",
   "execution_count": 97,
   "id": "72b93645",
   "metadata": {},
   "outputs": [],
   "source": [
    "XPR = Priority_re.loc[:, ~Priority_re.columns.isin(['Response_time', 'ARRIVE', 'DISPATCH', 'DATE'])]\n",
    "yPR = Priority_re['Response_Time']\n",
    "XPR_train,XPR_test,yPR_train,yPR_test=train_test_split(XPR,yPR,test_size=.2, random_state=0)"
   ]
  },
  {
   "cell_type": "code",
   "execution_count": 99,
   "id": "7e787747",
   "metadata": {},
   "outputs": [
    {
     "name": "stdout",
     "output_type": "stream",
     "text": [
      "The mean squared error of the Priority_re is 9.037325085585732e-15\n"
     ]
    }
   ],
   "source": [
    "# Same regression parameters as the original\n",
    "regressor=DecisionTreeRegressor(random_state=0)\n",
    "regressor.fit(XPR,yPR)\n",
    "yPR_pred=regressor.predict(XPR_test)\n",
    "rms=sqrt(msc(yPR_test,yPR_pred))\n",
    "print('The mean squared error of the Priority_re is',rms)"
   ]
  },
  {
   "cell_type": "code",
   "execution_count": 98,
   "id": "e46ce0bf",
   "metadata": {},
   "outputs": [
    {
     "name": "stdout",
     "output_type": "stream",
     "text": [
      "The mean squared error of the Priority_re is 8.015148211178783e-15\n"
     ]
    }
   ],
   "source": [
    "# Changed regression parameters\n",
    "regressor=DecisionTreeRegressor(splitter='random', random_state=1)\n",
    "regressor.fit(XPR,yPR)\n",
    "yPR_pred=regressor.predict(XPR_test)\n",
    "rms=sqrt(msc(yPR_test,yPR_pred))\n",
    "print('The mean squared error of the Priority_re is',rms)"
   ]
  },
  {
   "cell_type": "markdown",
   "id": "74b0f568",
   "metadata": {},
   "source": [
    "The Decision Tree Regression seems to fit the model extremely well. I am suspicious of potential overfitting issues, however it seems to maintain a very low mean squared error when put through different parameters on the regression."
   ]
  }
 ],
 "metadata": {
  "kernelspec": {
   "display_name": "Python 3",
   "language": "python",
   "name": "python3"
  },
  "language_info": {
   "codemirror_mode": {
    "name": "ipython",
    "version": 3
   },
   "file_extension": ".py",
   "mimetype": "text/x-python",
   "name": "python",
   "nbconvert_exporter": "python",
   "pygments_lexer": "ipython3",
   "version": "3.8.8"
  }
 },
 "nbformat": 4,
 "nbformat_minor": 5
}
