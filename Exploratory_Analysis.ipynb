{
 "cells": [
  {
   "cell_type": "code",
   "execution_count": 153,
   "id": "c37cc7fa",
   "metadata": {},
   "outputs": [],
   "source": [
    "import pandas as pd\n",
    "import numpy as np\n",
    "import seaborn as sns\n",
    "import matplotlib.pyplot as plt"
   ]
  },
  {
   "cell_type": "code",
   "execution_count": 194,
   "id": "ffe50fc7",
   "metadata": {},
   "outputs": [],
   "source": [
    "df = pd.read_csv(\"Fire_Open_Data.csv\", parse_dates=['DATE', 'CREATE', 'DISPATCH', 'ENROUTE', 'ARRIVE', 'CLEAR'])"
   ]
  },
  {
   "cell_type": "code",
   "execution_count": 174,
   "id": "c9a2c536",
   "metadata": {},
   "outputs": [
    {
     "name": "stdout",
     "output_type": "stream",
     "text": [
      "<class 'pandas.core.frame.DataFrame'>\n",
      "RangeIndex: 167586 entries, 0 to 167585\n",
      "Data columns (total 13 columns):\n",
      " #   Column           Non-Null Count   Dtype         \n",
      "---  ------           --------------   -----         \n",
      " 0   AGENCY_NAME      167586 non-null  object        \n",
      " 1   DATE             167586 non-null  datetime64[ns]\n",
      " 2   CREATE           167586 non-null  datetime64[ns]\n",
      " 3   DISPATCH         163462 non-null  datetime64[ns]\n",
      " 4   ENROUTE          137938 non-null  datetime64[ns]\n",
      " 5   ARRIVE           147646 non-null  datetime64[ns]\n",
      " 6   CLEAR            167586 non-null  datetime64[ns]\n",
      " 7   HOUR OF          167586 non-null  int64         \n",
      " 8   LOCATION         167584 non-null  object        \n",
      " 9   EVENT TYPE       167586 non-null  object        \n",
      " 10  PRIORITY         167586 non-null  int64         \n",
      " 11  FD EVENT NUMBER  167586 non-null  object        \n",
      " 12  ZIP_CODE         166968 non-null  float64       \n",
      "dtypes: datetime64[ns](6), float64(1), int64(2), object(4)\n",
      "memory usage: 16.6+ MB\n"
     ]
    }
   ],
   "source": [
    "df.info()"
   ]
  },
  {
   "cell_type": "code",
   "execution_count": 195,
   "id": "3180a5d7",
   "metadata": {},
   "outputs": [
    {
     "data": {
      "text/plain": [
       "(167586, 13)"
      ]
     },
     "execution_count": 195,
     "metadata": {},
     "output_type": "execute_result"
    }
   ],
   "source": [
    "df.shape"
   ]
  },
  {
   "cell_type": "markdown",
   "id": "241614e1",
   "metadata": {},
   "source": [
    "### Making all Agencies and Event Types dummies"
   ]
  },
  {
   "cell_type": "code",
   "execution_count": 175,
   "id": "b4371ffe",
   "metadata": {},
   "outputs": [],
   "source": [
    "##dummy_agency = pd.get_dummies(df['AGENCY_NAME'], prefix=\"Agency\") #Create Dummy Variable for the Agency Names\n",
    "##df = pd.concat([df, dummy_agency], axis=1) # Concat original dummy vars\n",
    "## df= df.drop('AGENCY_NAME', axis=1) # Drops OG column"
   ]
  },
  {
   "cell_type": "code",
   "execution_count": 176,
   "id": "7692ee5d",
   "metadata": {
    "scrolled": true
   },
   "outputs": [
    {
     "name": "stdout",
     "output_type": "stream",
     "text": [
      "Agency of the first row: Agency_Fern Creek FD\n"
     ]
    }
   ],
   "source": [
    "# Checking it worked\n",
    "##first_agency_column = df.columns[df.loc[0] == 1][0]\n",
    "\n",
    "##print(\"Agency of the first row:\", first_agency_column)"
   ]
  },
  {
   "cell_type": "code",
   "execution_count": 177,
   "id": "72a0943d",
   "metadata": {},
   "outputs": [],
   "source": [
    "##dummy_event = pd.get_dummies(df['EVENT TYPE'].str.replace(' ','_'), prefix='Event_Type')  # Create Dummy Variable for the Event Types\n",
    "##df = pd.concat([df, dummy_event], axis=1) # concat original dummy vars\n",
    "# df = df.drop('EVENT TYPE', axis=1) #Drops OG col\n"
   ]
  },
  {
   "cell_type": "code",
   "execution_count": 200,
   "id": "076c18b6",
   "metadata": {},
   "outputs": [
    {
     "name": "stdout",
     "output_type": "stream",
     "text": [
      "Column Names:\n",
      "AGENCY_NAME\n",
      "DATE\n",
      "CREATE\n",
      "DISPATCH\n",
      "ENROUTE\n",
      "ARRIVE\n",
      "CLEAR\n",
      "HOUR_OF\n",
      "EVENT TYPE\n",
      "PRIORITY\n",
      "Response_Time\n"
     ]
    }
   ],
   "source": [
    "# Display each column name (too many cols, so we have to print them out individually)\n",
    "##column_names = df.columns\n",
    "##print(\"Column Names:\")\n",
    "##for col_name in column_names:\n",
    "##    print(col_name)"
   ]
  },
  {
   "cell_type": "markdown",
   "id": "8a77eafd",
   "metadata": {},
   "source": [
    "### Further Cleaning"
   ]
  },
  {
   "cell_type": "code",
   "execution_count": 197,
   "id": "46cc8754",
   "metadata": {},
   "outputs": [],
   "source": [
    "df = df.rename(columns={'HOUR OF': 'HOUR_OF'})"
   ]
  },
  {
   "cell_type": "code",
   "execution_count": 198,
   "id": "6660120a",
   "metadata": {},
   "outputs": [],
   "source": [
    "#Dropping the unused Columns\n",
    "df.drop(['LOCATION'], axis=1, inplace=True)\n",
    "df.drop(['FD EVENT NUMBER'], axis=1, inplace=True)\n",
    "df.drop(['ZIP_CODE'], axis=1, inplace=True)"
   ]
  },
  {
   "cell_type": "code",
   "execution_count": 199,
   "id": "a5bc5b23",
   "metadata": {},
   "outputs": [],
   "source": [
    "# adding a column for total response time (disbatch to arrive)\n",
    "df['Response_Time'] = (df['ARRIVE'] - df['DISPATCH']).dt.total_seconds()"
   ]
  },
  {
   "cell_type": "markdown",
   "id": "4cdf8535",
   "metadata": {},
   "source": [
    "### Checking For NaN values in each column"
   ]
  },
  {
   "cell_type": "code",
   "execution_count": 201,
   "id": "7611dc63",
   "metadata": {},
   "outputs": [
    {
     "name": "stdout",
     "output_type": "stream",
     "text": [
      "0.0\n",
      "0.0\n",
      "0.0\n",
      "2.460826083324383\n",
      "17.691215256644348\n",
      "11.89836859880897\n",
      "0.0\n",
      "0.0\n",
      "0.0\n",
      "0.0\n",
      "11.89836859880897\n"
     ]
    }
   ],
   "source": [
    "# Print NaN precentages for all cols\n",
    "for column_name in df.columns:\n",
    "    nan_percentage = (df[column_name].isna().sum() / len(df[column_name])) * 100\n",
    "    print(nan_percentage)"
   ]
  },
  {
   "cell_type": "markdown",
   "id": "d2adae3d",
   "metadata": {},
   "source": [
    "### Summary Stats"
   ]
  },
  {
   "cell_type": "code",
   "execution_count": 202,
   "id": "4d2f2f61",
   "metadata": {},
   "outputs": [
    {
     "data": {
      "text/html": [
       "<div>\n",
       "<style scoped>\n",
       "    .dataframe tbody tr th:only-of-type {\n",
       "        vertical-align: middle;\n",
       "    }\n",
       "\n",
       "    .dataframe tbody tr th {\n",
       "        vertical-align: top;\n",
       "    }\n",
       "\n",
       "    .dataframe thead th {\n",
       "        text-align: right;\n",
       "    }\n",
       "</style>\n",
       "<table border=\"1\" class=\"dataframe\">\n",
       "  <thead>\n",
       "    <tr style=\"text-align: right;\">\n",
       "      <th></th>\n",
       "      <th>HOUR_OF</th>\n",
       "      <th>PRIORITY</th>\n",
       "      <th>Response_Time</th>\n",
       "    </tr>\n",
       "  </thead>\n",
       "  <tbody>\n",
       "    <tr>\n",
       "      <th>count</th>\n",
       "      <td>167586.000000</td>\n",
       "      <td>167586.000000</td>\n",
       "      <td>147646.000000</td>\n",
       "    </tr>\n",
       "    <tr>\n",
       "      <th>mean</th>\n",
       "      <td>1308.261430</td>\n",
       "      <td>5.144851</td>\n",
       "      <td>48.025114</td>\n",
       "    </tr>\n",
       "    <tr>\n",
       "      <th>std</th>\n",
       "      <td>621.016167</td>\n",
       "      <td>2.466530</td>\n",
       "      <td>4713.930797</td>\n",
       "    </tr>\n",
       "    <tr>\n",
       "      <th>min</th>\n",
       "      <td>0.000000</td>\n",
       "      <td>0.000000</td>\n",
       "      <td>-86270.000000</td>\n",
       "    </tr>\n",
       "    <tr>\n",
       "      <th>25%</th>\n",
       "      <td>900.000000</td>\n",
       "      <td>2.000000</td>\n",
       "      <td>217.000000</td>\n",
       "    </tr>\n",
       "    <tr>\n",
       "      <th>50%</th>\n",
       "      <td>1400.000000</td>\n",
       "      <td>7.000000</td>\n",
       "      <td>283.000000</td>\n",
       "    </tr>\n",
       "    <tr>\n",
       "      <th>75%</th>\n",
       "      <td>1800.000000</td>\n",
       "      <td>7.000000</td>\n",
       "      <td>367.000000</td>\n",
       "    </tr>\n",
       "    <tr>\n",
       "      <th>max</th>\n",
       "      <td>2300.000000</td>\n",
       "      <td>9.000000</td>\n",
       "      <td>6310.000000</td>\n",
       "    </tr>\n",
       "  </tbody>\n",
       "</table>\n",
       "</div>"
      ],
      "text/plain": [
       "             HOUR_OF       PRIORITY  Response_Time\n",
       "count  167586.000000  167586.000000  147646.000000\n",
       "mean     1308.261430       5.144851      48.025114\n",
       "std       621.016167       2.466530    4713.930797\n",
       "min         0.000000       0.000000  -86270.000000\n",
       "25%       900.000000       2.000000     217.000000\n",
       "50%      1400.000000       7.000000     283.000000\n",
       "75%      1800.000000       7.000000     367.000000\n",
       "max      2300.000000       9.000000    6310.000000"
      ]
     },
     "execution_count": 202,
     "metadata": {},
     "output_type": "execute_result"
    }
   ],
   "source": [
    "df.describe()"
   ]
  },
  {
   "cell_type": "code",
   "execution_count": 203,
   "id": "4d987d79",
   "metadata": {},
   "outputs": [
    {
     "data": {
      "text/html": [
       "<div>\n",
       "<style scoped>\n",
       "    .dataframe tbody tr th:only-of-type {\n",
       "        vertical-align: middle;\n",
       "    }\n",
       "\n",
       "    .dataframe tbody tr th {\n",
       "        vertical-align: top;\n",
       "    }\n",
       "\n",
       "    .dataframe thead th {\n",
       "        text-align: right;\n",
       "    }\n",
       "</style>\n",
       "<table border=\"1\" class=\"dataframe\">\n",
       "  <thead>\n",
       "    <tr style=\"text-align: right;\">\n",
       "      <th></th>\n",
       "      <th>AGENCY_NAME</th>\n",
       "      <th>DATE</th>\n",
       "      <th>CREATE</th>\n",
       "      <th>DISPATCH</th>\n",
       "      <th>ENROUTE</th>\n",
       "      <th>ARRIVE</th>\n",
       "      <th>CLEAR</th>\n",
       "      <th>HOUR_OF</th>\n",
       "      <th>EVENT TYPE</th>\n",
       "      <th>PRIORITY</th>\n",
       "      <th>Response_Time</th>\n",
       "    </tr>\n",
       "  </thead>\n",
       "  <tbody>\n",
       "    <tr>\n",
       "      <th>0</th>\n",
       "      <td>Fern Creek FD</td>\n",
       "      <td>2021-03-01</td>\n",
       "      <td>2024-02-06 00:22:43</td>\n",
       "      <td>2024-02-06 00:22:59</td>\n",
       "      <td>2024-02-06 00:26:15</td>\n",
       "      <td>NaT</td>\n",
       "      <td>2024-02-06 00:26:31</td>\n",
       "      <td>0</td>\n",
       "      <td>MEDICAL--MEDICAL - MED_CALL</td>\n",
       "      <td>7</td>\n",
       "      <td>NaN</td>\n",
       "    </tr>\n",
       "    <tr>\n",
       "      <th>1</th>\n",
       "      <td>Middletown FD</td>\n",
       "      <td>2021-03-01</td>\n",
       "      <td>2024-02-06 00:33:52</td>\n",
       "      <td>2024-02-06 00:34:19</td>\n",
       "      <td>NaT</td>\n",
       "      <td>2024-02-06 00:40:17</td>\n",
       "      <td>2024-02-06 00:51:04</td>\n",
       "      <td>0</td>\n",
       "      <td>WIRES_DOWN--Wires Down - Low Hanging</td>\n",
       "      <td>9</td>\n",
       "      <td>358.0</td>\n",
       "    </tr>\n",
       "    <tr>\n",
       "      <th>2</th>\n",
       "      <td>Louisville Fire Department</td>\n",
       "      <td>2021-03-01</td>\n",
       "      <td>2024-02-06 00:47:16</td>\n",
       "      <td>2024-02-06 00:47:42</td>\n",
       "      <td>2024-02-06 00:49:27</td>\n",
       "      <td>NaT</td>\n",
       "      <td>2024-02-06 01:06:21</td>\n",
       "      <td>0</td>\n",
       "      <td>MEDICAL--MEDICAL - MED_CALL</td>\n",
       "      <td>7</td>\n",
       "      <td>NaN</td>\n",
       "    </tr>\n",
       "    <tr>\n",
       "      <th>3</th>\n",
       "      <td>Louisville Fire Department</td>\n",
       "      <td>2021-03-01</td>\n",
       "      <td>2024-02-06 00:53:43</td>\n",
       "      <td>2024-02-06 00:54:06</td>\n",
       "      <td>2024-02-06 00:56:13</td>\n",
       "      <td>2024-02-06 01:06:34</td>\n",
       "      <td>2024-02-06 01:08:23</td>\n",
       "      <td>0</td>\n",
       "      <td>MEDICAL--MEDICAL - MED_CALL</td>\n",
       "      <td>7</td>\n",
       "      <td>748.0</td>\n",
       "    </tr>\n",
       "    <tr>\n",
       "      <th>4</th>\n",
       "      <td>Louisville Fire Department</td>\n",
       "      <td>2021-03-01</td>\n",
       "      <td>2024-02-06 01:03:30</td>\n",
       "      <td>2024-02-06 01:03:45</td>\n",
       "      <td>2024-02-06 01:05:30</td>\n",
       "      <td>2024-02-06 01:08:32</td>\n",
       "      <td>2024-02-06 01:27:04</td>\n",
       "      <td>100</td>\n",
       "      <td>MEDICAL--MEDICAL - MED_CALL</td>\n",
       "      <td>7</td>\n",
       "      <td>287.0</td>\n",
       "    </tr>\n",
       "  </tbody>\n",
       "</table>\n",
       "</div>"
      ],
      "text/plain": [
       "                  AGENCY_NAME       DATE              CREATE  \\\n",
       "0               Fern Creek FD 2021-03-01 2024-02-06 00:22:43   \n",
       "1               Middletown FD 2021-03-01 2024-02-06 00:33:52   \n",
       "2  Louisville Fire Department 2021-03-01 2024-02-06 00:47:16   \n",
       "3  Louisville Fire Department 2021-03-01 2024-02-06 00:53:43   \n",
       "4  Louisville Fire Department 2021-03-01 2024-02-06 01:03:30   \n",
       "\n",
       "             DISPATCH             ENROUTE              ARRIVE  \\\n",
       "0 2024-02-06 00:22:59 2024-02-06 00:26:15                 NaT   \n",
       "1 2024-02-06 00:34:19                 NaT 2024-02-06 00:40:17   \n",
       "2 2024-02-06 00:47:42 2024-02-06 00:49:27                 NaT   \n",
       "3 2024-02-06 00:54:06 2024-02-06 00:56:13 2024-02-06 01:06:34   \n",
       "4 2024-02-06 01:03:45 2024-02-06 01:05:30 2024-02-06 01:08:32   \n",
       "\n",
       "                CLEAR  HOUR_OF                            EVENT TYPE  \\\n",
       "0 2024-02-06 00:26:31        0           MEDICAL--MEDICAL - MED_CALL   \n",
       "1 2024-02-06 00:51:04        0  WIRES_DOWN--Wires Down - Low Hanging   \n",
       "2 2024-02-06 01:06:21        0           MEDICAL--MEDICAL - MED_CALL   \n",
       "3 2024-02-06 01:08:23        0           MEDICAL--MEDICAL - MED_CALL   \n",
       "4 2024-02-06 01:27:04      100           MEDICAL--MEDICAL - MED_CALL   \n",
       "\n",
       "   PRIORITY  Response_Time  \n",
       "0         7            NaN  \n",
       "1         9          358.0  \n",
       "2         7            NaN  \n",
       "3         7          748.0  \n",
       "4         7          287.0  "
      ]
     },
     "execution_count": 203,
     "metadata": {},
     "output_type": "execute_result"
    }
   ],
   "source": [
    "df.head()"
   ]
  },
  {
   "cell_type": "code",
   "execution_count": 204,
   "id": "8c7a932f",
   "metadata": {},
   "outputs": [
    {
     "data": {
      "text/html": [
       "<div>\n",
       "<style scoped>\n",
       "    .dataframe tbody tr th:only-of-type {\n",
       "        vertical-align: middle;\n",
       "    }\n",
       "\n",
       "    .dataframe tbody tr th {\n",
       "        vertical-align: top;\n",
       "    }\n",
       "\n",
       "    .dataframe thead th {\n",
       "        text-align: right;\n",
       "    }\n",
       "</style>\n",
       "<table border=\"1\" class=\"dataframe\">\n",
       "  <thead>\n",
       "    <tr style=\"text-align: right;\">\n",
       "      <th></th>\n",
       "      <th>AGENCY_NAME</th>\n",
       "      <th>DATE</th>\n",
       "      <th>CREATE</th>\n",
       "      <th>DISPATCH</th>\n",
       "      <th>ENROUTE</th>\n",
       "      <th>ARRIVE</th>\n",
       "      <th>CLEAR</th>\n",
       "      <th>HOUR_OF</th>\n",
       "      <th>EVENT TYPE</th>\n",
       "      <th>PRIORITY</th>\n",
       "      <th>Response_Time</th>\n",
       "    </tr>\n",
       "  </thead>\n",
       "  <tbody>\n",
       "    <tr>\n",
       "      <th>167581</th>\n",
       "      <td>Louisville Fire Department</td>\n",
       "      <td>2023-02-28</td>\n",
       "      <td>2024-02-06 23:22:23</td>\n",
       "      <td>2024-02-06 23:23:23</td>\n",
       "      <td>2024-02-06 23:24:53</td>\n",
       "      <td>2024-02-06 23:28:06</td>\n",
       "      <td>2024-02-06 23:28:25</td>\n",
       "      <td>2300</td>\n",
       "      <td>MEDICAL--MEDICAL - MED_CALL</td>\n",
       "      <td>7</td>\n",
       "      <td>283.0</td>\n",
       "    </tr>\n",
       "    <tr>\n",
       "      <th>167582</th>\n",
       "      <td>Louisville Fire Department</td>\n",
       "      <td>2023-02-28</td>\n",
       "      <td>2024-02-06 23:34:39</td>\n",
       "      <td>NaT</td>\n",
       "      <td>NaT</td>\n",
       "      <td>NaT</td>\n",
       "      <td>2024-02-06 23:35:33</td>\n",
       "      <td>2300</td>\n",
       "      <td>MEDICAL--MEDICAL - MED_CALL</td>\n",
       "      <td>7</td>\n",
       "      <td>NaN</td>\n",
       "    </tr>\n",
       "    <tr>\n",
       "      <th>167583</th>\n",
       "      <td>Louisville Fire Department</td>\n",
       "      <td>2023-02-28</td>\n",
       "      <td>2024-02-06 23:40:48</td>\n",
       "      <td>2024-02-06 23:40:57</td>\n",
       "      <td>NaT</td>\n",
       "      <td>2024-02-06 23:40:58</td>\n",
       "      <td>2024-02-06 23:50:05</td>\n",
       "      <td>2300</td>\n",
       "      <td>MEDICAL--MEDICAL - MED_CALL</td>\n",
       "      <td>7</td>\n",
       "      <td>1.0</td>\n",
       "    </tr>\n",
       "    <tr>\n",
       "      <th>167584</th>\n",
       "      <td>Louisville Fire Department</td>\n",
       "      <td>2023-02-28</td>\n",
       "      <td>2024-02-06 23:43:25</td>\n",
       "      <td>2024-02-06 23:43:40</td>\n",
       "      <td>2024-02-06 23:45:26</td>\n",
       "      <td>2024-02-06 23:49:36</td>\n",
       "      <td>2024-02-06 00:08:10</td>\n",
       "      <td>2300</td>\n",
       "      <td>MEDICAL--MEDICAL - MED_CALL</td>\n",
       "      <td>7</td>\n",
       "      <td>356.0</td>\n",
       "    </tr>\n",
       "    <tr>\n",
       "      <th>167585</th>\n",
       "      <td>Louisville Fire Department</td>\n",
       "      <td>2023-02-28</td>\n",
       "      <td>2024-02-06 23:54:03</td>\n",
       "      <td>2024-02-06 23:54:24</td>\n",
       "      <td>2024-02-06 23:55:48</td>\n",
       "      <td>2024-02-06 23:58:20</td>\n",
       "      <td>2024-02-06 23:59:22</td>\n",
       "      <td>2300</td>\n",
       "      <td>MEDICAL--MEDICAL - MED_CALL</td>\n",
       "      <td>7</td>\n",
       "      <td>236.0</td>\n",
       "    </tr>\n",
       "  </tbody>\n",
       "</table>\n",
       "</div>"
      ],
      "text/plain": [
       "                       AGENCY_NAME       DATE              CREATE  \\\n",
       "167581  Louisville Fire Department 2023-02-28 2024-02-06 23:22:23   \n",
       "167582  Louisville Fire Department 2023-02-28 2024-02-06 23:34:39   \n",
       "167583  Louisville Fire Department 2023-02-28 2024-02-06 23:40:48   \n",
       "167584  Louisville Fire Department 2023-02-28 2024-02-06 23:43:25   \n",
       "167585  Louisville Fire Department 2023-02-28 2024-02-06 23:54:03   \n",
       "\n",
       "                  DISPATCH             ENROUTE              ARRIVE  \\\n",
       "167581 2024-02-06 23:23:23 2024-02-06 23:24:53 2024-02-06 23:28:06   \n",
       "167582                 NaT                 NaT                 NaT   \n",
       "167583 2024-02-06 23:40:57                 NaT 2024-02-06 23:40:58   \n",
       "167584 2024-02-06 23:43:40 2024-02-06 23:45:26 2024-02-06 23:49:36   \n",
       "167585 2024-02-06 23:54:24 2024-02-06 23:55:48 2024-02-06 23:58:20   \n",
       "\n",
       "                     CLEAR  HOUR_OF                   EVENT TYPE  PRIORITY  \\\n",
       "167581 2024-02-06 23:28:25     2300  MEDICAL--MEDICAL - MED_CALL         7   \n",
       "167582 2024-02-06 23:35:33     2300  MEDICAL--MEDICAL - MED_CALL         7   \n",
       "167583 2024-02-06 23:50:05     2300  MEDICAL--MEDICAL - MED_CALL         7   \n",
       "167584 2024-02-06 00:08:10     2300  MEDICAL--MEDICAL - MED_CALL         7   \n",
       "167585 2024-02-06 23:59:22     2300  MEDICAL--MEDICAL - MED_CALL         7   \n",
       "\n",
       "        Response_Time  \n",
       "167581          283.0  \n",
       "167582            NaN  \n",
       "167583            1.0  \n",
       "167584          356.0  \n",
       "167585          236.0  "
      ]
     },
     "execution_count": 204,
     "metadata": {},
     "output_type": "execute_result"
    }
   ],
   "source": [
    "df.tail()"
   ]
  },
  {
   "cell_type": "code",
   "execution_count": 205,
   "id": "02759b54",
   "metadata": {},
   "outputs": [
    {
     "data": {
      "text/html": [
       "<div>\n",
       "<style scoped>\n",
       "    .dataframe tbody tr th:only-of-type {\n",
       "        vertical-align: middle;\n",
       "    }\n",
       "\n",
       "    .dataframe tbody tr th {\n",
       "        vertical-align: top;\n",
       "    }\n",
       "\n",
       "    .dataframe thead th {\n",
       "        text-align: right;\n",
       "    }\n",
       "</style>\n",
       "<table border=\"1\" class=\"dataframe\">\n",
       "  <thead>\n",
       "    <tr style=\"text-align: right;\">\n",
       "      <th></th>\n",
       "      <th>HOUR_OF</th>\n",
       "      <th>PRIORITY</th>\n",
       "      <th>Response_Time</th>\n",
       "    </tr>\n",
       "  </thead>\n",
       "  <tbody>\n",
       "    <tr>\n",
       "      <th>HOUR_OF</th>\n",
       "      <td>1.000000</td>\n",
       "      <td>-0.023982</td>\n",
       "      <td>-0.090863</td>\n",
       "    </tr>\n",
       "    <tr>\n",
       "      <th>PRIORITY</th>\n",
       "      <td>-0.023982</td>\n",
       "      <td>1.000000</td>\n",
       "      <td>0.003945</td>\n",
       "    </tr>\n",
       "    <tr>\n",
       "      <th>Response_Time</th>\n",
       "      <td>-0.090863</td>\n",
       "      <td>0.003945</td>\n",
       "      <td>1.000000</td>\n",
       "    </tr>\n",
       "  </tbody>\n",
       "</table>\n",
       "</div>"
      ],
      "text/plain": [
       "                HOUR_OF  PRIORITY  Response_Time\n",
       "HOUR_OF        1.000000 -0.023982      -0.090863\n",
       "PRIORITY      -0.023982  1.000000       0.003945\n",
       "Response_Time -0.090863  0.003945       1.000000"
      ]
     },
     "execution_count": 205,
     "metadata": {},
     "output_type": "execute_result"
    }
   ],
   "source": [
    "correlation_matrix = df.corr()\n",
    "correlation_matrix"
   ]
  },
  {
   "cell_type": "code",
   "execution_count": 206,
   "id": "b220c55b",
   "metadata": {},
   "outputs": [],
   "source": [
    "column_to_analyze = 'PRIORITY'\n",
    "frequency_distribution = df[column_to_analyze].value_counts()\n",
    "proportions = df[column_to_analyze].value_counts(normalize=True)"
   ]
  },
  {
   "cell_type": "code",
   "execution_count": 207,
   "id": "11eae733",
   "metadata": {},
   "outputs": [
    {
     "data": {
      "text/plain": [
       "7    95282\n",
       "2    41612\n",
       "3    10468\n",
       "1     9774\n",
       "8     5261\n",
       "4     2110\n",
       "5     1848\n",
       "9     1229\n",
       "0        2\n",
       "Name: PRIORITY, dtype: int64"
      ]
     },
     "execution_count": 207,
     "metadata": {},
     "output_type": "execute_result"
    }
   ],
   "source": [
    "frequency_distribution # Show how many times a priority level was picked"
   ]
  },
  {
   "cell_type": "code",
   "execution_count": 208,
   "id": "697127cf",
   "metadata": {},
   "outputs": [
    {
     "data": {
      "text/plain": [
       "7    0.568556\n",
       "2    0.248302\n",
       "3    0.062463\n",
       "1    0.058322\n",
       "8    0.031393\n",
       "4    0.012591\n",
       "5    0.011027\n",
       "9    0.007334\n",
       "0    0.000012\n",
       "Name: PRIORITY, dtype: float64"
      ]
     },
     "execution_count": 208,
     "metadata": {},
     "output_type": "execute_result"
    }
   ],
   "source": [
    "proportions                    #Same as frequency, but part of whole"
   ]
  },
  {
   "cell_type": "code",
   "execution_count": 209,
   "id": "7d54cab4",
   "metadata": {},
   "outputs": [
    {
     "data": {
      "text/plain": [
       "<AxesSubplot:xlabel='PRIORITY'>"
      ]
     },
     "execution_count": 209,
     "metadata": {},
     "output_type": "execute_result"
    },
    {
     "data": {
      "image/png": "[encoded data removed]",
      "text/plain": [
       "<Figure size 432x288 with 1 Axes>"
      ]
     },
     "metadata": {
      "needs_background": "light"
     },
     "output_type": "display_data"
    }
   ],
   "source": [
    "# Shows the possible outliers\n",
    "numeric_column_to_analyze = 'PRIORITY'\n",
    "sns.boxplot(x=df[numeric_column_to_analyze])"
   ]
  },
  {
   "cell_type": "code",
   "execution_count": 191,
   "id": "f3ccdcdc",
   "metadata": {},
   "outputs": [],
   "source": [
    "df.to_csv('FireDataEDA.csv', index=False)"
   ]
  },
  {
   "cell_type": "code",
   "execution_count": null,
   "id": "832f2182",
   "metadata": {},
   "outputs": [],
   "source": []
  }
 ],
 "metadata": {
  "kernelspec": {
   "display_name": "Python 3",
   "language": "python",
   "name": "python3"
  },
  "language_info": {
   "codemirror_mode": {
    "name": "ipython",
    "version": 3
   },
   "file_extension": ".py",
   "mimetype": "text/x-python",
   "name": "python",
   "nbconvert_exporter": "python",
   "pygments_lexer": "ipython3",
   "version": "3.8.8"
  }
 },
 "nbformat": 4,
 "nbformat_minor": 5
}
